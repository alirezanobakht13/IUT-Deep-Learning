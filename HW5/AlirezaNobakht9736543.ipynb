{
  "nbformat": 4,
  "nbformat_minor": 0,
  "metadata": {
    "colab": {
      "name": "HW5.ipynb",
      "provenance": [],
      "collapsed_sections": []
    },
    "kernelspec": {
      "name": "python3",
      "display_name": "Python 3"
    },
    "language_info": {
      "name": "python"
    },
    "accelerator": "GPU"
  },
  "cells": [
    {
      "cell_type": "markdown",
      "metadata": {
        "id": "yC3jpi49UGhL"
      },
      "source": [
        "# HW5: تولید موسیقی با استفاده از شبکه‌های عصبی بازگشتی\n",
        "Welcome to Homework 5  &#128522;&#9996;"
      ]
    },
    {
      "cell_type": "code",
      "metadata": {
        "id": "u69e9Xfvzc4A",
        "colab": {
          "base_uri": "https://localhost:8080/"
        },
        "outputId": "54c4ca25-a20a-4679-ef11-2fee247c76ae"
      },
      "source": [
        "from google.colab import drive\n",
        "drive.mount('/content/drive')"
      ],
      "execution_count": 1,
      "outputs": [
        {
          "output_type": "stream",
          "name": "stdout",
          "text": [
            "Drive already mounted at /content/drive; to attempt to forcibly remount, call drive.mount(\"/content/drive\", force_remount=True).\n"
          ]
        }
      ]
    },
    {
      "cell_type": "markdown",
      "metadata": {
        "id": "5yXL2SSP6Ofh"
      },
      "source": [
        "<div dir='rtl'style=\"text-align: right;font-family:verdana;\">\n",
        "\n",
        "\n",
        "ابتدا بسته‌ها و کتابخانه‌های مورد نیاز را import میکنیم، در طول اجرای کد هر پکیج دیگری که نیاز دارید، قرار دهید. "
      ]
    },
    {
      "cell_type": "code",
      "metadata": {
        "id": "Ilib0lI_zFbT",
        "colab": {
          "base_uri": "https://localhost:8080/"
        },
        "outputId": "2601cf01-9167-4b3d-ed80-493969803cd2"
      },
      "source": [
        "!pip install -e /content/drive/MyDrive/University/Deep\\ Learning/HW5/deeplearningcourse-20211226T165502Z-001/deeplearningcourse\n",
        "import deeplearningcourse as dlc\n",
        "%tensorflow_version 2.x\n",
        "import tensorflow as tf\n",
        "import numpy as np\n",
        "import matplotlib.pyplot as plt"
      ],
      "execution_count": 2,
      "outputs": [
        {
          "output_type": "stream",
          "name": "stdout",
          "text": [
            "Obtaining file:///content/drive/MyDrive/University/Deep%20Learning/HW5/deeplearningcourse-20211226T165502Z-001/deeplearningcourse\n",
            "Requirement already satisfied: numpy in /usr/local/lib/python3.7/dist-packages (from deeplearningcourse==0.0.0) (1.19.5)\n",
            "Requirement already satisfied: regex in /usr/local/lib/python3.7/dist-packages (from deeplearningcourse==0.0.0) (2019.12.20)\n",
            "Requirement already satisfied: tqdm in /usr/local/lib/python3.7/dist-packages (from deeplearningcourse==0.0.0) (4.62.3)\n",
            "Requirement already satisfied: gym in /usr/local/lib/python3.7/dist-packages (from deeplearningcourse==0.0.0) (0.17.3)\n",
            "Requirement already satisfied: cloudpickle<1.7.0,>=1.2.0 in /usr/local/lib/python3.7/dist-packages (from gym->deeplearningcourse==0.0.0) (1.3.0)\n",
            "Requirement already satisfied: scipy in /usr/local/lib/python3.7/dist-packages (from gym->deeplearningcourse==0.0.0) (1.4.1)\n",
            "Requirement already satisfied: pyglet<=1.5.0,>=1.4.0 in /usr/local/lib/python3.7/dist-packages (from gym->deeplearningcourse==0.0.0) (1.5.0)\n",
            "Requirement already satisfied: future in /usr/local/lib/python3.7/dist-packages (from pyglet<=1.5.0,>=1.4.0->gym->deeplearningcourse==0.0.0) (0.16.0)\n",
            "Installing collected packages: deeplearningcourse\n",
            "  Attempting uninstall: deeplearningcourse\n",
            "    Found existing installation: deeplearningcourse 0.0.0\n",
            "    Can't uninstall 'deeplearningcourse'. No files were found to uninstall.\n",
            "  Running setup.py develop for deeplearningcourse\n",
            "Successfully installed deeplearningcourse-0.0.0\n"
          ]
        }
      ]
    },
    {
      "cell_type": "markdown",
      "metadata": {
        "id": "E4XwB0mrM14K"
      },
      "source": [
        "\n",
        "\n",
        "## A) مجموعه داده"
      ]
    },
    {
      "cell_type": "markdown",
      "metadata": {
        "id": "v2rwLOYe-tMA"
      },
      "source": [
        "<div dir='rtl'style=\"text-align: right;font-family:verdana;\">\n",
        "\n",
        "ابتدا دیتاست مورد نظر را از طریق پکیجی که در گوگل درایو قرار دایم، load کرده و مراحل بعدی را انجام می‌دهیم. \n",
        "همانطور که گقتیم دیتاست مورد نظر تعدادی آهنگ محلی ایرلندی است که با نماد ABC نشان داده می‌شود. برای درک بهتر می‌توانیم یکی از این آهنگ‌ها را در نماد ABC نشان دهیم. \n",
        "همچنین می‌توانیم این اهنگ را به صورت صوتی نمایش داده و پخش کنیم.\n",
        "\n",
        "\n",
        "\n",
        "\n",
        "\n",
        "*  یکی از نکات مهمی که باید به آن توجه کنید این است که نماد موسیقی فقط شامل اطلاعاتی در مورد نت‌های در حال پخش نمی‌باشد بلکه علاوه بر این اطلاعات، اطلاعات دیگری مانند عنوان آهنگ، کلید و tempo آهنگ نیز وجود دارد. \n",
        "\n"
      ]
    },
    {
      "cell_type": "code",
      "metadata": {
        "id": "4td16DyJWK-M",
        "colab": {
          "base_uri": "https://localhost:8080/"
        },
        "outputId": "251687b5-cc07-4d0f-950e-b0c6e86172b7"
      },
      "source": [
        "\n",
        "songs = dlc.P1.load_data()\n",
        "examplesong = songs[25]\n",
        "print(examplesong)\n",
        "\n"
      ],
      "execution_count": 3,
      "outputs": [
        {
          "output_type": "stream",
          "name": "stdout",
          "text": [
            "Found 817 songs in text\n",
            "X:24\n",
            "T:Flowers of Edinburgh\n",
            "Z: id:dc-hornpipe-23\n",
            "M:C|\n",
            "L:1/8\n",
            "K:G Major\n",
            "GE|D2DE G2GA|BGBd cBAG|FGEF DEFG|A2FA D2GE|!\n",
            "D2DE G2GA|BGBd efge|dcBA GFGA|B2G2 G2:|!\n",
            "(3def|g2gf gbag|f2fe fagf|edef gfed|B2e2 e2ge|!\n",
            "dBGB d2Bd|edef g2ge|dcBA GFGA|B2G2 G2:|\n"
          ]
        }
      ]
    },
    {
      "cell_type": "code",
      "metadata": {
        "id": "JlPfK1Rd9aZF",
        "colab": {
          "base_uri": "https://localhost:8080/"
        },
        "outputId": "a3ff4460-0191-4ac4-b46a-1aa3ed582b3b"
      },
      "source": [
        "joined_songs = \"\\n\\n\".join(songs) \n",
        "vocab = sorted(set(joined_songs))\n",
        "print( len(vocab))"
      ],
      "execution_count": 4,
      "outputs": [
        {
          "output_type": "stream",
          "name": "stdout",
          "text": [
            "83\n"
          ]
        }
      ]
    },
    {
      "cell_type": "markdown",
      "metadata": {
        "id": "ZaaxphA2AvaI"
      },
      "source": [
        "<div dir='rtl'style=\"text-align: right;font-family:verdana;\">\n",
        "\n",
        "\n",
        "روند کار به این صورت است که دنباله‌ای از کاراکترها را به مدل وارد می‌کنیم و مدل را برای پیش‌بینی خروجی که کاراکتر بعدی در هر تایم زمانی است، آموزش می‌دهیم. مدل‌های RNN یک intenal state دارند که به عناصر دیده شده قبلی بستگی دارد، بنابراین اطلاعات مربوط به همه کاراکترهای دیده شده تا یک لحظه مشخص برای ایجاد پیش‌بینی گرفته می‌شوند. \n",
        "\n"
      ]
    },
    {
      "cell_type": "markdown",
      "metadata": {
        "id": "yngUdBh9XYZX"
      },
      "source": [
        "\n",
        "\n",
        "###  A-1) تبدیل متن به بردار"
      ]
    },
    {
      "cell_type": "markdown",
      "metadata": {
        "id": "_dU6j3WFXjf-"
      },
      "source": [
        "<div dir='rtl'style=\"text-align: right;font-family:verdana;\">\n",
        "\n",
        "\n",
        "\n",
        "قبل از شروع آموزش مدل RNN باید یک نمایش عددی از مجوعه داده‌های متنی خود ایجاد کنیم. برای این کار می‌توانیم دو جدول مراجعه ایجاد کنیم که یکی از آنها کاراکترها را به عدد نگاشت می‌کند و دیگری اعداد را به کاراکتر برمی‌گراند. فعلا این کار را برای کاراکترهای منحصر به فرد در دیتاست انجام می‌دهیم. \n",
        "\n",
        "همچنین می‌توانید این نمایش عددی را برای داده‌های متن مشاهده کنید:"
      ]
    },
    {
      "cell_type": "code",
      "metadata": {
        "id": "Iox-ZyaP9cKg"
      },
      "source": [
        "\n",
        "char2idx = {u:i for i, u in enumerate(vocab)}\n",
        "idx2char = np.array(vocab)"
      ],
      "execution_count": 5,
      "outputs": []
    },
    {
      "cell_type": "code",
      "metadata": {
        "colab": {
          "base_uri": "https://localhost:8080/"
        },
        "id": "qjflwrUiOLtP",
        "outputId": "284c319d-0fb9-4706-a59e-227eda9cf5f4"
      },
      "source": [
        "\n",
        "for char,_ in zip(char2idx, range(20)):\n",
        "    print('  {:4s}: {:2d},'.format(repr(char), char2idx[char]))"
      ],
      "execution_count": 6,
      "outputs": [
        {
          "output_type": "stream",
          "name": "stdout",
          "text": [
            "  '\\n':  0,\n",
            "  ' ' :  1,\n",
            "  '!' :  2,\n",
            "  '\"' :  3,\n",
            "  '#' :  4,\n",
            "  \"'\" :  5,\n",
            "  '(' :  6,\n",
            "  ')' :  7,\n",
            "  ',' :  8,\n",
            "  '-' :  9,\n",
            "  '.' : 10,\n",
            "  '/' : 11,\n",
            "  '0' : 12,\n",
            "  '1' : 13,\n",
            "  '2' : 14,\n",
            "  '3' : 15,\n",
            "  '4' : 16,\n",
            "  '5' : 17,\n",
            "  '6' : 18,\n",
            "  '7' : 19,\n"
          ]
        }
      ]
    },
    {
      "cell_type": "markdown",
      "metadata": {
        "id": "omMbST7CPomx"
      },
      "source": [
        "<div dir='rtl'style=\"text-align: right;font-family:verdana;\">\n",
        "\n",
        "**تمرین:**\n",
        "\n",
        "تابعی بنویسید که همه songs string ها را به نمایش عددی تبدیل کند. توجه داشته باشید که خروجی این تابع باید یک np.array با N عنصر باشد که N تعداد کاراکترهای رشته ورودی است. خروجی تابع را vectorized_songs نامگذاری کنید و در مراحل بعدی استفاده کنید."
      ]
    },
    {
      "cell_type": "code",
      "source": [
        "def vectorize(string):\n",
        "   return np.array([char2idx[c] for c in string])\n",
        "\n",
        "  # ...\n"
      ],
      "metadata": {
        "id": "OUDXRyZWLK5R"
      },
      "execution_count": 7,
      "outputs": []
    },
    {
      "cell_type": "code",
      "source": [
        "vectorized_songs = vectorize(joined_songs)"
      ],
      "metadata": {
        "id": "zNnnMxejLg1f"
      },
      "execution_count": 8,
      "outputs": []
    },
    {
      "cell_type": "markdown",
      "metadata": {
        "id": "j8xnNo5uZPqN"
      },
      "source": [
        "<div dir='rtl'style=\"text-align: right;font-family:verdana;\">\n",
        "\n",
        "\n",
        "همچنین می‌توان نحوه نگاشت اولین قسمت متن را به یک نمایش integer نمایش داد."
      ]
    },
    {
      "cell_type": "code",
      "metadata": {
        "id": "OG3al8a_ZEN7",
        "colab": {
          "base_uri": "https://localhost:8080/"
        },
        "outputId": "ea2c9e1d-13be-4ec7-b3b5-90b192052251"
      },
      "source": [
        "print ('{} ---- characters mapped to int ----> {}'.format(repr(joined_songs[:20]), vectorized_songs[:20]))"
      ],
      "execution_count": 9,
      "outputs": [
        {
          "output_type": "stream",
          "name": "stdout",
          "text": [
            "\"X:1\\nT:Alexander's\\nZ:\" ---- characters mapped to int ----> [49 22 13  0 45 22 26 67 60 79 56 69 59 60 73  5 74  0 51 22]\n"
          ]
        }
      ]
    },
    {
      "cell_type": "markdown",
      "metadata": {
        "id": "_-FjpXZAMgIJ"
      },
      "source": [
        "\n",
        "\n",
        "## B)  ایجاد نمونه‌های آموزش و لیبل‌ها"
      ]
    },
    {
      "cell_type": "markdown",
      "metadata": {
        "id": "jG2kOtOcaZmf"
      },
      "source": [
        "<div dir='rtl'style=\"text-align: right;font-family:verdana;\">\n",
        "\n",
        "گام بعدی این است که متن را به دنباله‌های نمونه‌ای که در طول آموزش از آن استفاده می‌کنیم، تبدیل کنیم. هر دنباله ورودی که به مدل RNN می‌دهیم دارای یک seq_length است، همچنین باید یک دنباله target برای هر ورودی تعریف کنیم که در آموزش RNN برای پیش‌بینی کاراکتر بعدی استفاده می‌شود. \n",
        "\n",
        "مثلا اگر فرض کنیم seq_length برابر با چهار باشد و متن ورودی ما \"Hello\"  باشد، دنباله هدف \"ello\" است. \n",
        "\n",
        "\n",
        "\n",
        "*   روش دسته‌ای به ما این امکان را می‌دهد که این جریان کاراکترها را به دنباله‌هایی با اندازه‌های دلخواه تبدیل کنیم.\n",
        "\n",
        "* \n",
        "تابع creat_examples نمونه‌های مورد نظر ما را ایجاد می‌کند و از آن برای تولید داده‌های آموزش و لیبل‌های آن‌ها استفاده می‌کنیم. "
      ]
    },
    {
      "cell_type": "code",
      "metadata": {
        "id": "Lxjj9RyVS9WA"
      },
      "source": [
        "#  creat training examples and targets \n",
        "\n",
        "def creat_examples(vectorized_songs, seq_length, batch_size):\n",
        "  # the length of the vectorized songs string\n",
        "  n = vectorized_songs.shape[0] - 1\n",
        "  # randomly choose the starting indices for the examples in the training batch\n",
        "  idx = np.random.choice(n-seq_length, batch_size)\n",
        "  input_batch = [vectorized_songs[i : i+seq_length] for i in idx]\n",
        "  output_batch = [vectorized_songs[i+1 : i+seq_length+1] for i in idx]\n",
        "\n",
        "\n",
        "  # x_batch, y_batch provide the true inputs and targets for network training\n",
        "  x_batch = np.reshape(input_batch, [batch_size, seq_length])\n",
        "  y_batch = np.reshape(output_batch, [batch_size, seq_length])\n",
        "  return x_batch, y_batch"
      ],
      "execution_count": 10,
      "outputs": []
    },
    {
      "cell_type": "code",
      "source": [
        ""
      ],
      "metadata": {
        "id": "_-xJMb1T8u4U"
      },
      "execution_count": 10,
      "outputs": []
    },
    {
      "cell_type": "markdown",
      "metadata": {
        "id": "sBE0ldjIevGM"
      },
      "source": [
        "<div dir='rtl'style=\"text-align: right;font-family:verdana;\">\n",
        "\n",
        "\n",
        "   برای درک بهتر می‌توانید چند کاراکتر اول در متن را به همراه target آن مشاهده کنید.\n",
        "\n",
        "\n"
      ]
    },
    {
      "cell_type": "code",
      "metadata": {
        "id": "mYFyE5C2RK-I",
        "colab": {
          "base_uri": "https://localhost:8080/"
        },
        "outputId": "2001a07e-b608-40ed-ee93-24db7e8188af"
      },
      "source": [
        "\n",
        "x_batch, y_batch = creat_examples(vectorized_songs, seq_length= 5, batch_size= 1)\n",
        "\n",
        "for i, (input_idx, target_idx) in enumerate(zip(np.squeeze(x_batch), np.squeeze(y_batch))):\n",
        "    print(\"Step {:3d}\".format(i))\n",
        "    print(\"  input: {} ({:s})\".format(input_idx, repr(idx2char[input_idx])))\n",
        "    print(\"  expected output: {} ({:s})\".format(target_idx, repr(idx2char[target_idx])))"
      ],
      "execution_count": 11,
      "outputs": [
        {
          "output_type": "stream",
          "name": "stdout",
          "text": [
            "Step   0\n",
            "  input: 1 (' ')\n",
            "  expected output: 27 ('B')\n",
            "Step   1\n",
            "  input: 27 ('B')\n",
            "  expected output: 58 ('c')\n",
            "Step   2\n",
            "  input: 58 ('c')\n",
            "  expected output: 82 ('|')\n",
            "Step   3\n",
            "  input: 82 ('|')\n",
            "  expected output: 26 ('A')\n",
            "Step   4\n",
            "  input: 26 ('A')\n",
            "  expected output: 25 ('>')\n"
          ]
        }
      ]
    },
    {
      "cell_type": "markdown",
      "metadata": {
        "id": "CBanF8IDamW1"
      },
      "source": [
        "\n",
        "\n",
        "## C) شبکه‌های عصبی بازگشتی"
      ]
    },
    {
      "cell_type": "markdown",
      "metadata": {
        "id": "mbGE09b0iAoO"
      },
      "source": [
        "### C-1) تعریف مدل"
      ]
    },
    {
      "cell_type": "markdown",
      "metadata": {
        "id": "B5N4LjWub93m"
      },
      "source": [
        "<div dir='rtl'style=\"text-align: right;font-family:verdana;\">\n",
        "\n",
        "پس از آماده‌سازی داده‌های آموزش و تست، می‌خواهیم یک شبکه عصبی بازگشتی طراحی کنیم، آموزش دهیم و سپس از مدل آموزش دیده برای تولید موسیقی جدید استفاده کنیم. \n",
        "\n",
        "**تمرین:**\n",
        "\n",
        "مدل پیشنهادی خود را ارائه کنید و آن را آموزش دهید:"
      ]
    },
    {
      "cell_type": "code",
      "metadata": {
        "id": "PsC-OvfQRK9E"
      },
      "source": [
        "# Defining the RNN Model \n",
        "\n",
        "model = tf.keras.Sequential([\n",
        "                             tf.keras.layers.Embedding(len(vocab),256),\n",
        "                             tf.keras.layers.LSTM(1024,return_sequences=True),\n",
        "                             tf.keras.layers.Dense(128,activation='relu'),\n",
        "                             tf.keras.layers.Dense(len(vocab)),\n",
        "])\n",
        "\n",
        "# TODO"
      ],
      "execution_count": 12,
      "outputs": []
    },
    {
      "cell_type": "code",
      "metadata": {
        "id": "gWU74Rl5dUWu",
        "colab": {
          "base_uri": "https://localhost:8080/"
        },
        "outputId": "458b8223-1c7e-4808-f298-344cba4e536c"
      },
      "source": [
        "model.summary()"
      ],
      "execution_count": 13,
      "outputs": [
        {
          "output_type": "stream",
          "name": "stdout",
          "text": [
            "Model: \"sequential\"\n",
            "_________________________________________________________________\n",
            " Layer (type)                Output Shape              Param #   \n",
            "=================================================================\n",
            " embedding (Embedding)       (None, None, 256)         21248     \n",
            "                                                                 \n",
            " lstm (LSTM)                 (None, None, 1024)        5246976   \n",
            "                                                                 \n",
            " dense (Dense)               (None, None, 128)         131200    \n",
            "                                                                 \n",
            " dense_1 (Dense)             (None, None, 83)          10707     \n",
            "                                                                 \n",
            "=================================================================\n",
            "Total params: 5,410,131\n",
            "Trainable params: 5,410,131\n",
            "Non-trainable params: 0\n",
            "_________________________________________________________________\n"
          ]
        }
      ]
    },
    {
      "cell_type": "markdown",
      "metadata": {
        "id": "0LTy4Vs7kUW2"
      },
      "source": [
        "<div dir='rtl'style=\"text-align: right;font-family:verdana;\">\n",
        "\n",
        "**تمرین:**\n",
        "\n",
        "با در نظر گرفتن طول ورودی برابر با 100 و استفاده از تابع pred اندازه خروجی را نشان دهید:\n",
        " \n",
        "\n",
        "*   \n",
        "توجه داشته باشید که می‌توان مدل را بر روی ورودی‌هایی با هر اندازه آموزش داد.\n",
        "\n",
        "\n",
        "\n",
        "\n",
        "\n",
        "\n",
        "\n"
      ]
    },
    {
      "cell_type": "code",
      "metadata": {
        "id": "XRLZlMKZ8NRI",
        "colab": {
          "base_uri": "https://localhost:8080/"
        },
        "outputId": "a1a9d380-bd9a-46e5-d878-2af659c720ff"
      },
      "source": [
        "x, y = creat_examples(vectorized_songs, seq_length=100, batch_size=32)\n",
        "pred = model(x)\n",
        "print(f'output shape is: {pred.shape}')\n",
        "\n",
        "# TODO"
      ],
      "execution_count": 14,
      "outputs": [
        {
          "output_type": "stream",
          "name": "stdout",
          "text": [
            "output shape is: (32, 100, 83)\n"
          ]
        }
      ]
    },
    {
      "cell_type": "markdown",
      "metadata": {
        "id": "LfjZC6WY8qwr"
      },
      "source": [
        "<div dir='rtl'style=\"text-align: right;font-family:verdana;\">\n",
        "\n",
        "همچنین می‌توانیم رمزگشایی انجام دهیم تا ورودی را با متن پیش‌بینی شده توسط مدل آموزش ندیده مقایسه کنیم:"
      ]
    },
    {
      "cell_type": "code",
      "metadata": {
        "id": "aRlvQJc89JtS",
        "colab": {
          "base_uri": "https://localhost:8080/"
        },
        "outputId": "1438da82-8da9-4aac-a9fe-71c3149eee7c"
      },
      "source": [
        "sampled_indices = tf.random.categorical(pred[10], num_samples=1)\n",
        "sampled_indices = tf.squeeze(sampled_indices,axis=-1).numpy()\n",
        "sampled_indices"
      ],
      "execution_count": 15,
      "outputs": [
        {
          "output_type": "execute_result",
          "data": {
            "text/plain": [
              "array([18, 25, 31, 18, 49, 39, 58, 76, 59, 17, 27, 15, 76, 80, 40, 66, 61,\n",
              "       23, 56, 64, 43, 81, 63, 22, 10, 30,  0, 15, 76,  1, 47, 74, 65, 10,\n",
              "       42,  8, 13, 38, 59,  8, 21, 22, 49, 57, 80, 12, 50, 34, 27, 44, 15,\n",
              "       27, 74, 26, 74, 62, 74, 25, 66, 21, 18, 22, 17, 58, 67, 54, 48, 50,\n",
              "        9,  8, 43, 19, 79, 36, 28, 24, 75, 59, 55, 68, 56, 74, 62, 57, 22,\n",
              "       49,  6, 81, 77, 45, 19, 13, 37, 14, 38, 21, 81, 70, 79,  8])"
            ]
          },
          "metadata": {},
          "execution_count": 15
        }
      ]
    },
    {
      "cell_type": "code",
      "metadata": {
        "id": "L3FXSXS98p5_",
        "colab": {
          "base_uri": "https://localhost:8080/"
        },
        "outputId": "e4744b27-de6a-4a1f-e100-4182f4a6221f"
      },
      "source": [
        "print(\"input: \\n\", repr(\"\".join(idx2char[x[10]])))\n",
        "print(\"char prediction: \\n\", repr(\"\".join(idx2char[sampled_indices])))"
      ],
      "execution_count": 16,
      "outputs": [
        {
          "output_type": "stream",
          "name": "stdout",
          "text": [
            "input: \n",
            " 'g|fdad bdad|gfge dcBc|!\\ndggf gfed|eaag agef|g3e dcBc|dBcA BGG2:|!\\n\\nX:102\\nT:Fermoy Lasses\\nZ: id:dc-re'\n",
            "char prediction: \n",
            " '6>F6XNcud5B3uyOkf<aiRzh:.E\\n3u Vsj.Q,1Md,9:Xby0YIBS3BsAsgs>k96:5cl^WY-,R7xKC=td_masgb:X(zvT71L2M9zox,'\n"
          ]
        }
      ]
    },
    {
      "cell_type": "markdown",
      "metadata": {
        "id": "2aBYvNWk-V2N"
      },
      "source": [
        "### C-2) آموزش مدل"
      ]
    },
    {
      "cell_type": "markdown",
      "metadata": {
        "id": "h2N0j9k5hY48"
      },
      "source": [
        "<div dir='rtl'style=\"text-align: right;font-family:verdana;\">\n",
        "\n",
        "\n",
        "\n",
        "*   همانطور که مشاهده می‌کنیم متن تولید شده توسط مدل آموزش ندیده بسیار بی معنی است و باید برای بهبود مدل را آموزش دهیم. \n",
        "\n",
        "\n",
        "\n",
        "\n",
        "\n",
        "**تمرین:**\n",
        "\n",
        "تابع هزینه مناسب را برای محاسبه و برگرداندن خطا بین لیبل‌های واقعی و پیش‌بینی شده تعریف کنید. \n",
        " ( از تابع هزینه sparse_categorical_crossentropy  استفاده کنید.)"
      ]
    },
    {
      "cell_type": "code",
      "metadata": {
        "id": "DUheDB3vid4n"
      },
      "source": [
        "# Defining the loss function\n",
        "def loss_function(labels, logits):\n",
        "  # TODO\n",
        "  return tf.keras.losses.sparse_categorical_crossentropy(labels, logits, from_logits=True)"
      ],
      "execution_count": 17,
      "outputs": []
    },
    {
      "cell_type": "markdown",
      "metadata": {
        "id": "47LDbwgJIQfh"
      },
      "source": [
        "<div dir='rtl'style=\"text-align: right;font-family:verdana;\">\n",
        "\n",
        "\n",
        "**تمرین:**\n",
        "\n",
        "تابع خطا را برای محاسبه و برگرداندن مقدار خطا بین مقدار واقعی و مقدار پیش‌بینی شده مدل آموزش ندیده اعمال کنید و مقدار خطا را نشان دهید:"
      ]
    },
    {
      "cell_type": "code",
      "metadata": {
        "id": "IShm7iNCJa5V",
        "colab": {
          "base_uri": "https://localhost:8080/"
        },
        "outputId": "43cc4905-c4ec-46c8-cc61-c277c7801c37"
      },
      "source": [
        "# TODO\n",
        "\n",
        "print(loss_function(y,pred))\n",
        "print(f'mean of loss is {tf.reduce_mean(loss_function(y,pred))}')"
      ],
      "execution_count": 18,
      "outputs": [
        {
          "output_type": "stream",
          "name": "stdout",
          "text": [
            "tf.Tensor(\n",
            "[[4.417392  4.422079  4.4161267 ... 4.4218636 4.4205766 4.4169955]\n",
            " [4.4206786 4.415649  4.4244013 ... 4.4297633 4.4125996 4.4172626]\n",
            " [4.4205203 4.4185367 4.417004  ... 4.4143367 4.416124  4.417022 ]\n",
            " ...\n",
            " [4.4194727 4.416106  4.419025  ... 4.4158673 4.417187  4.424716 ]\n",
            " [4.416881  4.420334  4.413082  ... 4.4197054 4.4235    4.4309626]\n",
            " [4.414528  4.421061  4.423133  ... 4.418509  4.416497  4.424828 ]], shape=(32, 100), dtype=float32)\n",
            "mean of loss is 4.418978214263916\n"
          ]
        }
      ]
    },
    {
      "cell_type": "markdown",
      "metadata": {
        "id": "khR7SKbho7iB"
      },
      "source": [
        "<div dir='rtl'style=\"text-align: right;font-family:verdana;\">\n",
        "\n",
        "\n",
        "**تمرین:**\n",
        "\n",
        "با تعریف هایپرپارامترها به صورت مناسب مدل را آموش دهید:\n",
        "\n",
        "\n",
        "\n",
        "-    هایپرپارامترهای مناسب را برای شبکه انتخاب کرده و نحوه به دست آوردن این هایپرپارامترها را توضیح دهید.\n",
        "\n",
        "-  بعد از تعریف هایپرپارامترها مدل را آموزش داده و دقت آن را روی داده‌های آموزش گزارش دهید. همچنین نمودار خطا را در طی فرایند آموزش رسم کنید.\n",
        "-    تعداد ایپوک‌ها در مرحله آموزش چگونه بر عملکرد مدل تاثیر می‌گذارند؟\n",
        "    \n",
        "\n"
      ]
    },
    {
      "cell_type": "code",
      "source": [
        "### Hyperparameter setting and optimization ###\n",
        "num_training_iterations =  5000\n",
        "batch_size =   16\n",
        "seq_length =   100\n",
        "learning_rate = 1e-3\n",
        "\n",
        "\n",
        "# Checkpoint location:\n",
        "import os\n",
        "checkpoint_dir = './training_checkpoints'\n",
        "checkpoint_prefix = os.path.join(checkpoint_dir, \"my_ckpt\")"
      ],
      "metadata": {
        "id": "KIiRVFjbOful"
      },
      "execution_count": 19,
      "outputs": []
    },
    {
      "cell_type": "code",
      "metadata": {
        "id": "IIDArLUqidzN",
        "colab": {
          "base_uri": "https://localhost:8080/",
          "height": 550
        },
        "outputId": "dedbeec5-6318-4040-c7f2-9f25163dfb84"
      },
      "source": [
        "### train model\n",
        "\n",
        "optimizer = tf.keras.optimizers.Adam(learning_rate=learning_rate)\n",
        "\n",
        "@tf.function\n",
        "def train_step(x_train, y_train):\n",
        "    with tf.GradientTape() as tape:\n",
        "        logits = model(x_train,training=True) # Load the images\n",
        "        loss = loss_function(y_train,logits)\n",
        "\n",
        "    # Backpropagation\n",
        "    grads_bp = tape.gradient(loss, model.trainable_variables)\n",
        "    optimizer.apply_gradients(zip(grads_bp, model.trainable_variables))\n",
        "    return loss\n",
        "\n",
        "\n",
        "from tqdm import tqdm\n",
        "\n",
        "\n",
        "loss_history = dlc.P4.LossHistory(smoothing_factor=0.6) \n",
        "# loss_history = dlc.P4.LossHistory() \n",
        "# plotter = dlc.P4.PeriodicPlotter(sec=2, scale='semilogy')\n",
        "plotter = dlc.P4.PeriodicPlotter(sec=2)\n",
        "if hasattr(tqdm, '_instances'): tqdm._instances.clear()\n",
        "\n",
        "# training \n",
        "for epoch in tqdm(range(num_training_iterations)):\n",
        "    # Choosing a batch of training\n",
        "    x_train, y_train = creat_examples(vectorized_songs, seq_length=seq_length, batch_size=batch_size)\n",
        "    loss = train_step(x_train,y_train)\n",
        "\n",
        "    # Record the loss function\n",
        "    loss_history.append(tf.reduce_mean(loss))\n",
        "    plotter.plot(loss_history.get())\n",
        "\n",
        "    if epoch % 200 == 0:\n",
        "      model.save_weights(checkpoint_prefix)\n",
        "\n",
        "\n",
        "model.save_weights(checkpoint_prefix)\n",
        "print(f\"last loss: {loss_history.get()[-1]}\")\n"
      ],
      "execution_count": 20,
      "outputs": [
        {
          "output_type": "display_data",
          "data": {
            "image/png": "[encoded data removed]",
            "text/plain": [
              "<Figure size 432x288 with 1 Axes>"
            ]
          },
          "metadata": {}
        },
        {
          "output_type": "stream",
          "name": "stderr",
          "text": [
            "100%|██████████| 5000/5000 [10:19<00:00,  8.07it/s]\n"
          ]
        },
        {
          "output_type": "stream",
          "name": "stdout",
          "text": [
            "last loss: 0.2162719964981079\n"
          ]
        },
        {
          "output_type": "display_data",
          "data": {
            "image/png": "[encoded data removed]",
            "text/plain": [
              "<Figure size 432x288 with 1 Axes>"
            ]
          },
          "metadata": {
            "needs_background": "light"
          }
        }
      ]
    },
    {
      "cell_type": "markdown",
      "metadata": {
        "id": "JWV0AEemXs7L"
      },
      "source": [
        "\n",
        "\n",
        "## D) تولید موسیقی با استفاده از شبکه‌های عصبی بازگشتی"
      ]
    },
    {
      "cell_type": "markdown",
      "metadata": {
        "id": "WZ7LIBRzYjZg"
      },
      "source": [
        "<div dir='rtl'style=\"text-align: right;font-family:verdana;\">\n",
        "\n",
        "اکنون می‌توانیم از RNN آموزش دیده برای تولید موسیقی استفاده کنیم. هنگام تولید موسیقی، ما باید مدل را به نوعی تغذیه کنیم تا شروع به کار کند. هنگامی که یک seed تولید شده داریم، می‌توانیم هر یک از کاراکترهای پی در پی را به صورت تکراری پیش‌بینی کنیم. \n",
        "\n",
        "\n",
        "\n",
        "\n",
        "*   به این نکته توجه داشته باشید که مدل RNN از یک لایه softmax  در لایه آخر استفاده می‌کند که برای نتیجه‌گیری به طور مکرر از این توزیع‌ها نمونه می‌گیریم و سپس از نمونه‌های خود برای کدگذاری آهنگ تولید شده قالب ABC استفاده می‌کنیم. \n",
        "\n",
        "**تمرین:**\n",
        "\n",
        "تابع زیر را برای تولید موسیقی با استفاده از مدل آموزش دیده خود تمکیل کنید:\n"
      ]
    },
    {
      "cell_type": "code",
      "metadata": {
        "id": "dRxdYgYVX5BE",
        "colab": {
          "base_uri": "https://localhost:8080/"
        },
        "outputId": "1e5a05a0-4de7-4443-e8bb-4a67c4d939f1"
      },
      "source": [
        "\n",
        "def text_generation(model, start_string, generation_length=1000):\n",
        "  start_vec = tf.expand_dims([char2idx[c] for c in start_string],0)\n",
        "  result = [c for c in start_string]\n",
        "\n",
        "  for i in range(generation_length):\n",
        "    out = model(start_vec,training=False)\n",
        "\n",
        "    index = tf.random.categorical(out[0],1)\n",
        "\n",
        "    start_vec = index\n",
        "\n",
        "    result.append(idx2char[index[0,0].numpy()])\n",
        "\n",
        "\n",
        "  return result\n",
        "\n",
        "\n",
        "text = ''.join(text_generation(model, 'X', 1000))\n",
        "\n",
        "print(text)\n",
        "\n",
        "\n",
        "# TODO"
      ],
      "execution_count": 21,
      "outputs": [
        {
          "output_type": "stream",
          "name": "stdout",
          "text": [
            "X:D2G2 Do d|GEDFA|cBd feg|!\n",
            "K:de2|gge2|d|eaf ocB A edcAFA enia|gd|ga|f3|!\n",
            "Kid|c-1/ey bfeg|!\n",
            "GB|ed2AGA|!\n",
            "\n",
            "Z:C\n",
            "\n",
            "X:|fgdBdBAGEG dcBG2:GAG t/d2:12a-D2f|c Riga2e^ckefdc2A|!\n",
            "\n",
            "z|edc|b c2|!\n",
            "A|!\n",
            "K:|gdd2:|gec-jora|A BECn\n",
            "f c AFGFG|!\n",
            "g Ma e2 ydBAA BAFFAGE2g|g AB ooc|gfgegdBAd|bgga02 DG2\n",
            "Z: B|ea EDE|D|!\n",
            "X:d2dBGGGFGA2efdAF|e|ajilily's\n",
            "Z:Hoc-3cd|!\n",
            "L:5\n",
            "A DAF3: Jor\n",
            "X: (3227\n",
            "e f38\n",
            "Z:AAA2 BG|!\n",
            "z|!\n",
            "K: e|G B|fajiagef e e:|Bdfgfajoron\n",
            "\n",
            "Z:BGDGE2dcAGFD d A e-7\n",
            "Mgfaz|dce ef|ED2|!\n",
            "as\n",
            "g ajorAEEF e e|!\n",
            "dBdBABG2 BA|!\n",
            "K:IED:|d2:1/4\n",
            "Ma|eAd|!\n",
            "\n",
            "Z:dc|F2e/ G A,C\n",
            "cc|!\n",
            "Z:F tedeg Drc3 F|d|c-roul\n",
            "f ce d d3 edc|dBA4\n",
            "ga|\n",
            "BdBAG Bdee|egea>f zBd B2FGA,C\n",
            "g2A|gd2d|E2DD:GFAB|!\n",
            "Z: g f|gan g|AF|!\n",
            "F e'2c-7\n",
            "Z:|c T: e BAG|fdBG fd2ag e e|B2|fgg B|GFEBddc2|!\n",
            "\n",
            "X: AB|el cAEEF ea-r\n",
            "Ha-rt E A32 E3FAFA,3c ga fd gee\n",
            "B|fed ige|ec,2AFAF tr\n",
            "GA fgenmiccdc ABGFA3 dc2 cAG|f fd d1/8\n",
            "Z:|!\n",
            "d FDGAG jon\n",
            "\n",
            "\n",
            "K:|!\n",
            "K:GFGE3|ge eefgeB|BGABG BA|g2|d|geBG|a DGrae f|!\n",
            "K:|ge faf BGDFGA ba A ege d dA fan\n",
            "K:12A GED2el\n",
            "dc-red eaig gaf AAG,2gfeg2:C\n",
            "X: ee G e>c|dg|AGB G2A\n"
          ]
        }
      ]
    },
    {
      "cell_type": "markdown",
      "metadata": {
        "id": "yyQ9krWklMSS"
      },
      "source": [
        "<div dir='rtl'style=\"text-align: right;font-family:verdana;\">\n",
        "\n",
        "\n",
        "**تمرین:**\n",
        "\n",
        "اکنون می‌توانید موسیقی‌های تولید شده (text)\n",
        "را به صورت زیر یا به هر طریقی که می‌توانید، در قالب ABC نشان داده یا پخش کنید."
      ]
    },
    {
      "cell_type": "code",
      "source": [
        "songs = dlc.P1.extract_songsnippet(text)\n",
        "for i, song in enumerate(songs): \n",
        "  dlc.P1.play(song)\n",
        "  print(song, end=\"\\n\\n\\n\\n\")"
      ],
      "metadata": {
        "id": "McxJVHkTjpeO",
        "colab": {
          "base_uri": "https://localhost:8080/"
        },
        "outputId": "fb7fbc7e-df51-404e-e9ef-86b3f58549ca"
      },
      "execution_count": 22,
      "outputs": [
        {
          "output_type": "stream",
          "name": "stdout",
          "text": [
            "Found 7 songs in text\n",
            "X:D2G2 Do d|GEDFA|cBd feg|!\n",
            "K:de2|gge2|d|eaf ocB A edcAFA enia|gd|ga|f3|!\n",
            "Kid|c-1/ey bfeg|!\n",
            "GB|ed2AGA|!\n",
            "\n",
            "\n",
            "\n",
            "Z:C\n",
            "\n",
            "\n",
            "\n",
            "X:|fgdBdBAGEG dcBG2:GAG t/d2:12a-D2f|c Riga2e^ckefdc2A|!\n",
            "\n",
            "\n",
            "\n",
            "z|edc|b c2|!\n",
            "A|!\n",
            "K:|gdd2:|gec-jora|A BECn\n",
            "f c AFGFG|!\n",
            "g Ma e2 ydBAA BAFFAGE2g|g AB ooc|gfgegdBAd|bgga02 DG2\n",
            "Z: B|ea EDE|D|!\n",
            "X:d2dBGGGFGA2efdAF|e|ajilily's\n",
            "Z:Hoc-3cd|!\n",
            "L:5\n",
            "A DAF3: Jor\n",
            "X: (3227\n",
            "e f38\n",
            "Z:AAA2 BG|!\n",
            "z|!\n",
            "K: e|G B|fajiagef e e:|Bdfgfajoron\n",
            "\n",
            "\n",
            "\n",
            "Z:BGDGE2dcAGFD d A e-7\n",
            "Mgfaz|dce ef|ED2|!\n",
            "as\n",
            "g ajorAEEF e e|!\n",
            "dBdBABG2 BA|!\n",
            "K:IED:|d2:1/4\n",
            "Ma|eAd|!\n",
            "\n",
            "\n",
            "\n",
            "Z:dc|F2e/ G A,C\n",
            "cc|!\n",
            "Z:F tedeg Drc3 F|d|c-roul\n",
            "f ce d d3 edc|dBA4\n",
            "ga|\n",
            "BdBAG Bdee|egea>f zBd B2FGA,C\n",
            "g2A|gd2d|E2DD:GFAB|!\n",
            "Z: g f|gan g|AF|!\n",
            "F e'2c-7\n",
            "Z:|c T: e BAG|fdBG fd2ag e e|B2|fgg B|GFEBddc2|!\n",
            "\n",
            "\n",
            "\n",
            "X: AB|el cAEEF ea-r\n",
            "Ha-rt E A32 E3FAFA,3c ga fd gee\n",
            "B|fed ige|ec,2AFAF tr\n",
            "GA fgenmiccdc ABGFA3 dc2 cAG|f fd d1/8\n",
            "Z:|!\n",
            "d FDGAG jon\n",
            "\n",
            "\n",
            "\n"
          ]
        }
      ]
    },
    {
      "cell_type": "code",
      "source": [
        ""
      ],
      "metadata": {
        "id": "tWtbc_-CJDg1"
      },
      "execution_count": 22,
      "outputs": []
    }
  ]
}