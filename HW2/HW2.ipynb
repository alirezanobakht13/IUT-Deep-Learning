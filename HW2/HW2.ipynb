{
  "cells": [
    {
      "cell_type": "markdown",
      "metadata": {
        "id": "Cm1XpLftPi4A"
      },
      "source": [
        "#Homework 2: MNIST Digit Classification\n"
      ]
    },
    {
      "cell_type": "markdown",
      "metadata": {
        "id": "SBLyk5gVcxWC"
      },
      "source": [
        "<div dir='rtl'style=\"text-align: right;font-family:verdana;\">\n",
        "\n",
        "در این تکلیف هدف طراحی مدلی بر اساس شبکه‌های Fully Connected\n",
        "برای حل مساله‌ی دسته‌بندی اعداد دست نویس است.\n",
        "دیتاستی که در اختیار شما قرار داده شده است, دیتاست \n",
        "[MNIST](http://yann.lecun.com/exdb/mnist/) \n",
        "است\n",
        "که شامل ۱۰ کلاس برای دسته‌بندی اعداد دست نویس ۰-۹ است.\n",
        "در این دیتاست در مجموع ۷۰۰۰۰ تصویر برای تمام ۱۰ کلاس در نظر گرفته شده است که شامل ۶۰۰۰۰ تصویر برای آموزش و ۱۰۰۰۰ تصویر برای تست است.\n",
        "اندازه‌ی تمام تصاویر در این دیتاست ۲۸*۲۸\n",
        "می‌باشد.\n",
        "شبکه‌ی طراحی شده باید بتواند تشخیص دهد که تصویر ورودی متعلق به کدام یک از این کلاس‌ها می‌باشد.\n",
        "طراحی تعداد لایه‌های شبکه و تعداد نورون‌ها بر عهده شما می‌باشد.\n",
        "ساختار شبکه‌ی مورد نظر با کراس در نظر گرفته شده است. در ساختار شبکه‌ی خود از لایه‌ی \n",
        "[Flatten](https://www.tensorflow.org/api_docs/python/tf/keras/layers/Flatten)\n",
        "برای یکسان سازی ابعاد ورودی به مدل خود استفاده کنید.\n",
        "در نهایت دقت مدل را براساس معیارهای\n",
        "Accuracy, Precision, Recall\n",
        "و\n",
        "F1_measure \n",
        " بدست آورید.\n",
        "\n",
        "کد شروع در اختیار شما قرار داده شده است. شما موظف هستید قسمت‌هایی که با TODO نشان داده شده است را به بهترین نحو پر کنید تا به دقت بالایی در شبکه خود دست پیدا کنید.\n"
      ]
    },
    {
      "cell_type": "markdown",
      "metadata": {
        "id": "66eiYEtMtgi_"
      },
      "source": [
        "<div dir='rtl'style=\"text-align: right;font-family:verdana;\">\n",
        "\n",
        "تاثیر موارد زیر را بر عملکرد مدلی که طراحی کرده‌اید بررسی و تحلیل کنید:\n",
        "\n",
        "\n",
        "*   تعداد لایه‌های Fully Connected\n",
        "*   تعداد نورون‌های هر لایه\n",
        "* نرخ یادگیری و batch size\n",
        "* توابع بهینه‌ساز\n",
        "* تعداد داده‌های آموزشی و تست"
      ]
    },
    {
      "cell_type": "code",
      "execution_count": 1,
      "metadata": {
        "id": "RsGqx_ai_N8F"
      },
      "outputs": [
        {
          "name": "stderr",
          "output_type": "stream",
          "text": [
            "2021-12-01 17:56:04.425392: I tensorflow/stream_executor/platform/default/dso_loader.cc:48] Successfully opened dynamic library libcudart.so.10.1\n"
          ]
        }
      ],
      "source": [
        "# %tensorflow_version 2.x\n",
        "import tensorflow as tf \n",
        "import matplotlib.pyplot as plt\n",
        "import numpy as np\n",
        "import random"
      ]
    },
    {
      "cell_type": "markdown",
      "metadata": {
        "id": "HKjrdUtX_N8J"
      },
      "source": [
        "## 1.1 MNIST dataset \n"
      ]
    },
    {
      "cell_type": "code",
      "execution_count": 2,
      "metadata": {
        "id": "p2dQsHI3_N8K"
      },
      "outputs": [],
      "source": [
        "mnist = tf.keras.datasets.mnist\n",
        "(train_X, train_Y), (test_X, test_Y) = mnist.load_data()\n",
        "train_X = (np.expand_dims(train_X, axis=-1)/255.).astype(np.float32)\n",
        "train_Y = (train_Y).astype(np.int64)\n",
        "test_X = (np.expand_dims(test_X, axis=-1)/255.).astype(np.float32)\n",
        "test_Y = (test_Y).astype(np.int64)"
      ]
    },
    {
      "cell_type": "code",
      "execution_count": 3,
      "metadata": {
        "id": "bDBsR2lP_N8O",
        "scrolled": true
      },
      "outputs": [
        {
          "data": {
            "image/png": "[encoded data removed]",
            "text/plain": [
              "<Figure size 720x720 with 16 Axes>"
            ]
          },
          "metadata": {},
          "output_type": "display_data"
        }
      ],
      "source": [
        "plt.figure(figsize=(10,10))\n",
        "random_inds = np.random.choice(60000,16)\n",
        "for i in range(16):\n",
        "    plt.subplot(4,4,i+1)\n",
        "    plt.xticks([])\n",
        "    plt.yticks([])\n",
        "    img_index = random_inds[i]\n",
        "    plt.imshow(np.squeeze(train_X[img_index]), cmap=plt.cm.binary)\n",
        "    plt.xlabel(train_Y[img_index])"
      ]
    },
    {
      "cell_type": "markdown",
      "metadata": {
        "id": "V6hd3Nt1_N8q"
      },
      "source": [
        "## 1.2 Neural Network for Handwritten Digit Classification\n"
      ]
    },
    {
      "cell_type": "code",
      "execution_count": 4,
      "metadata": {
        "id": "MMZsbjAkDKpU"
      },
      "outputs": [
        {
          "name": "stderr",
          "output_type": "stream",
          "text": [
            "2021-12-01 17:56:06.646404: I tensorflow/stream_executor/platform/default/dso_loader.cc:48] Successfully opened dynamic library libcuda.so.1\n",
            "2021-12-01 17:56:06.979329: E tensorflow/stream_executor/cuda/cuda_gpu_executor.cc:968] could not open file to read NUMA node: /sys/bus/pci/devices/0000:01:00.0/numa_node\n",
            "Your kernel may have been built without NUMA support.\n",
            "2021-12-01 17:56:06.979410: I tensorflow/core/common_runtime/gpu/gpu_device.cc:1716] Found device 0 with properties: \n",
            "pciBusID: 0000:01:00.0 name: NVIDIA GeForce RTX 2060 computeCapability: 7.5\n",
            "coreClock: 1.35GHz coreCount: 30 deviceMemorySize: 6.00GiB deviceMemoryBandwidth: 241.85GiB/s\n",
            "2021-12-01 17:56:06.979456: I tensorflow/stream_executor/platform/default/dso_loader.cc:48] Successfully opened dynamic library libcudart.so.10.1\n",
            "2021-12-01 17:56:06.991753: I tensorflow/stream_executor/platform/default/dso_loader.cc:48] Successfully opened dynamic library libcublas.so.10\n",
            "2021-12-01 17:56:06.996382: I tensorflow/stream_executor/platform/default/dso_loader.cc:48] Successfully opened dynamic library libcufft.so.10\n",
            "2021-12-01 17:56:06.996805: I tensorflow/stream_executor/platform/default/dso_loader.cc:48] Successfully opened dynamic library libcurand.so.10\n",
            "2021-12-01 17:56:07.004248: I tensorflow/stream_executor/platform/default/dso_loader.cc:48] Successfully opened dynamic library libcusolver.so.10\n",
            "2021-12-01 17:56:07.007312: I tensorflow/stream_executor/platform/default/dso_loader.cc:48] Successfully opened dynamic library libcusparse.so.10\n",
            "2021-12-01 17:56:07.007415: W tensorflow/stream_executor/platform/default/dso_loader.cc:59] Could not load dynamic library 'libcudnn.so.7'; dlerror: libcudnn.so.7: cannot open shared object file: No such file or directory\n",
            "2021-12-01 17:56:07.007422: W tensorflow/core/common_runtime/gpu/gpu_device.cc:1753] Cannot dlopen some GPU libraries. Please make sure the missing libraries mentioned above are installed properly if you would like to use GPU. Follow the guide at https://www.tensorflow.org/install/gpu for how to download and setup the required libraries for your platform.\n",
            "Skipping registering GPU devices...\n",
            "2021-12-01 17:56:07.008065: I tensorflow/core/platform/cpu_feature_guard.cc:142] This TensorFlow binary is optimized with oneAPI Deep Neural Network Library (oneDNN)to use the following CPU instructions in performance-critical operations:  AVX2 FMA\n",
            "To enable them in other operations, rebuild TensorFlow with the appropriate compiler flags.\n",
            "2021-12-01 17:56:07.015788: I tensorflow/core/platform/profile_utils/cpu_utils.cc:104] CPU Frequency: 2592005000 Hz\n",
            "2021-12-01 17:56:07.016679: I tensorflow/compiler/xla/service/service.cc:168] XLA service 0x558bb1707c40 initialized for platform Host (this does not guarantee that XLA will be used). Devices:\n",
            "2021-12-01 17:56:07.016691: I tensorflow/compiler/xla/service/service.cc:176]   StreamExecutor device (0): Host, Default Version\n",
            "2021-12-01 17:56:07.018661: I tensorflow/core/common_runtime/gpu/gpu_device.cc:1257] Device interconnect StreamExecutor with strength 1 edge matrix:\n",
            "2021-12-01 17:56:07.018672: I tensorflow/core/common_runtime/gpu/gpu_device.cc:1263]      \n"
          ]
        }
      ],
      "source": [
        "# your model\n",
        "def Model_fc(neuron_in_each_hidden_layer,act): \n",
        "  fully_connected_model = tf.keras.Sequential([\n",
        "    tf.keras.layers.Flatten(),\n",
        "  ])\n",
        "\n",
        "  for n in neuron_in_each_hidden_layer:\n",
        "    fully_connected_model.add(tf.keras.layers.Dense(n,activation=act));\n",
        "\n",
        "  fully_connected_model.add(tf.keras.layers.Dense(10,activation='sigmoid'))\n",
        "  return fully_connected_model\n",
        "\n",
        "model = Model_fc([256,256],act='relu')"
      ]
    },
    {
      "cell_type": "markdown",
      "metadata": {
        "id": "-F7lhJl2csPW"
      },
      "source": [
        "<div dir='rtl'style=\"text-align: right;font-family:verdana;\">\n",
        "\n",
        "در هنگام\n",
        "[compile](https://www.tensorflow.org/api_docs/python/tf/keras/models/Sequential#compile) \n",
        "کردن\n",
        "باید برخی از خصوصیات مورد نیاز هنگام آموزش شبکه مانند تابع\n",
        "هزینه,\n",
        "تابع بهینه‌ساز و معیار برای اندازه‌گیری دقت شبکه\n",
        " مشخص شوند. تاثیر این موارد را در آموزش شبکه مورد بررسی قرار دهید."
      ]
    },
    {
      "cell_type": "code",
      "execution_count": 5,
      "metadata": {
        "id": "Lhan11blCaW7"
      },
      "outputs": [],
      "source": [
        "# lr = 0.001\n",
        "# model.compile(optimizer=tf.keras.optimizers.Adam(learning_rate=lr),loss='categorical_crossentropy',metrics=['accuracy'])"
      ]
    },
    {
      "cell_type": "markdown",
      "metadata": {
        "id": "qKF6uW-BCaW-"
      },
      "source": [
        "### Train the model\n",
        "\n"
      ]
    },
    {
      "cell_type": "markdown",
      "metadata": {
        "id": "0DBLVEuXd2JT"
      },
      "source": [
        "<div dir='rtl'style=\"text-align: right;font-family:verdana;\">\n",
        "\n",
        "با فراخوانی تابع\n",
        "[fit](https://www.tensorflow.org/api_docs/python/tf/keras/models/Sequential#fit)\n",
        "می‌توانید مدل خود را بر روی داده‌های دیتاست آموزش دهید. آموزش در تعداد epochها\n",
        " و اندازه‌ی bacthهای مناسب انجام می‌شود.\n",
        " تاثیر تغییر تعداد اوپوک و batch size\n",
        " را مورد بررسی قرار دهید و نتایج را بیان کنید."
      ]
    },
    {
      "cell_type": "code",
      "execution_count": 6,
      "metadata": {
        "id": "EFMbIqIvQ2X0"
      },
      "outputs": [],
      "source": [
        "# epochs = 1\n",
        "# batch_sizes = 2048\n",
        "\n",
        "# trainn = tf.keras.utils.to_categorical(train_Y)\n",
        "# testt = tf.keras.utils.to_categorical(test_Y)\n",
        "\n",
        "# model.fit(train_X,trainn,batch_size=batch_sizes,epochs=epochs)"
      ]
    },
    {
      "cell_type": "code",
      "execution_count": 7,
      "metadata": {},
      "outputs": [],
      "source": [
        "\n",
        "def scores(y_true, y_pred):\n",
        "    y_true = tf.argmax(y_true,axis=1)\n",
        "    y_pred = tf.argmax(y_pred,axis=1)\n",
        "    table = np.full((10,10),tf.keras.backend.epsilon())\n",
        "\n",
        "    for i in range(len(y_true)):\n",
        "        table[y_pred[i],y_true[i]] += 1\n",
        "        \n",
        "    acc = np.trace(table)/np.sum(table)\n",
        "    \n",
        "    rcls = np.zeros(10)\n",
        "\n",
        "    for i in range(10):\n",
        "        rcls[i] = table[i,i]/np.sum(table[i,:])\n",
        "    \n",
        "    # print(f\"recall for each digit is: {rcls}\")\n",
        "\n",
        "    prcs = np.zeros(10)\n",
        "\n",
        "    for i in range(10):\n",
        "        prcs[i] = table[i,i]/np.sum(table[:,i])\n",
        "\n",
        "    # print(f\"precision for each digit is: {prcs}\")\n",
        "\n",
        "    f1 = np.zeros(10)\n",
        "\n",
        "    for i in range(10):\n",
        "        f1[i] = 2*(rcls[i]*prcs[i])/(rcls[i]+prcs[i])\n",
        "\n",
        "    # print(f\"f1-score for each digit is: {f1}\")\n",
        "\n",
        "    return acc,np.mean(rcls),np.mean(prcs),np.mean(f1)\n"
      ]
    },
    {
      "cell_type": "code",
      "execution_count": 8,
      "metadata": {},
      "outputs": [],
      "source": [
        "lrs = [1e-2,1e-3]\n",
        "layers = [\n",
        "    [255,],\n",
        "    [64,32],\n",
        "    [32,32,32],\n",
        "]\n",
        "epochs = [10,50]\n",
        "batch_sizes = [128,512,2048]\n",
        "act = ['sigmoid','relu']\n",
        "trainn = tf.keras.utils.to_categorical(train_Y)\n",
        "testt = tf.keras.utils.to_categorical(test_Y)\n",
        "\n",
        "import sys\n",
        "original = sys.stdout\n",
        "sys.stdout = open('comparison_result.txt','w')\n",
        "\n",
        "for e in epochs:\n",
        "    print(f\"epochs = {e}\")\n",
        "    for lr in lrs:\n",
        "        print(f\"\\tlearning rate = {lr}\")\n",
        "        for l in layers:\n",
        "            print(f\"\\t\\tlayers = {l}\")\n",
        "            for a in act:\n",
        "                print(f\"\\t\\t\\tactivation = {a}\")\n",
        "                for b in batch_sizes:\n",
        "                    print(f\"\\t\\t\\t\\tbatch size = {b}\")\n",
        "                    model = Model_fc(l,a)\n",
        "                    model.compile(tf.keras.optimizers.Adam(learning_rate=lr),loss='categorical_crossentropy')\n",
        "                    model.fit(train_X,trainn,b,e,0)\n",
        "                    pred = model(test_X)\n",
        "                    acc,rcl,prc,f1 = scores(testt,pred)\n",
        "                    print(f\"\\t\\t\\t\\t\\tAdam=> acc: {acc:.3f}, avg recall: {rcl:.3f}, avg precision: {prc:.3f}, avg f1: {f1:.3f}\")\n",
        "\n",
        "                    model2 = Model_fc(l,a)\n",
        "                    model2.compile(tf.keras.optimizers.SGD(learning_rate=lr),loss='categorical_crossentropy')\n",
        "                    model2.fit(train_X,trainn,b,e,0)\n",
        "                    pred = model2(test_X)\n",
        "                    acc,rcl,prc,f1 = scores(testt,pred)\n",
        "                    print(f\"\\t\\t\\t\\t\\tSGD => acc: {acc:.3f}, avg recall: {rcl:.3f}, avg precision: {prc:.3f}, avg f1: {f1:.3f}\")         \n",
        "\n",
        "sys.stdout = original       \n",
        "                "
      ]
    },
    {
      "cell_type": "markdown",
      "metadata": {
        "id": "oEw4bZgGCaXB"
      },
      "source": [
        "### Evaluate accuracy on the test dataset\n"
      ]
    },
    {
      "cell_type": "code",
      "execution_count": 9,
      "metadata": {
        "id": "VflXLEeECaXC"
      },
      "outputs": [],
      "source": [
        "# '''TODO: Use the evaluate method to test the model!'''\n",
        "# score = # TODO\n",
        "\n",
        "# print('Test score: ', score[0])\n",
        "# print('Test accuracy: ', score[1])\n",
        "# print(\"%s: %.2f%%\" % (model.metrics_names[1], score[1]*100))"
      ]
    },
    {
      "cell_type": "markdown",
      "metadata": {},
      "source": [
        "<div dir='rtl'style=\"text-align: right;font-family:verdana;\">\n",
        "\n",
        "# نتایج\n",
        "\n",
        "#### بعد از اجرای کد نتایج در فایل comparison_result.txt در کنار همین فایل قرار می‌گیرند\n",
        "\n",
        "#### معیارهای Accuracy، Recall، Precision و F1-score روی داده‌های تست بررسی شده‌اند\n",
        "\n",
        "#### لایه‌ی خروجی همواره ده نورون داشته و تابع فعال‌ساز آن sigmoid بوده است.\n",
        "\n",
        "### تاثیر الگوریتم بهینه سازی\n",
        "دو الگوریتم\n",
        "SGD\n",
        "و\n",
        "Adam\n",
        "برای این مسئله مورد استفاده قرار گرفتند که در همه (به جز چند مورد خاص) الگوریتم\n",
        "Adam\n",
        "به عملکرد بهتری با در نظر گرفتن هر چهار معیار رسید. در ضمن نکته‌ی قابل توجه بعدی نیز این است که الگوریتم\n",
        "Adam\n",
        "وابستگی کمتری با سایر هایپرپارامترها دارد که در ادامه با بررسی هر کدوم متوجه آن می‌شویم.\n",
        "\n",
        "### تاثیر تابع فعالساز\n",
        "دو تابع فعال‌ساز\n",
        "relu\n",
        "و\n",
        "sigmoid\n",
        "مورد آزمایش قرار گرفتند که زمانی که از بهینه ساز\n",
        "Adam\n",
        "استفاده میشد فرق چندانی در عملکرد این دو وجود نداشت (در برخی موارد \n",
        "relu\n",
        "اندکی بهتر عملکرد میکرد)\n",
        "اما زمانی که الگوریتم بهینه‌ساز\n",
        "SGD\n",
        "بود، تابع فعالساز\n",
        "relu\n",
        "عملکردی بسیار بهتر در اکثر موارد داشت.\n",
        "\n",
        "### تاثیر تعداد لایه‌ها و تعداد نورون‌ها در هر لایه\n",
        "برای بررسی این موضوع از شبکه‌‌هایی با یک لایه مخفی با ۲۵۶ نورون، دولایه با ۶۴ و ۳۲ نورون و سه لایه با هر کدام ۳۲ نورون استفاده شد.\n",
        "در الگوریتم\n",
        "Adam\n",
        "تفاوت زیادی بین این چند نوع نبود (شبکه با یک لایه‌ی ۲۵۶ نورونی در برخی موارد اندکی عملکرد بهتر داشت)\n",
        "اما در الگوریتم\n",
        "SGD\n",
        "در بیشتر موارد عملکرد نوع اول بهتر از دوم و نوع دوم بهتر از سوم بود.\n",
        "\n",
        "### تاثیر نرخ یادگیری\n",
        "از دو نرخ یادگیری 0.01 و 0.001 برای آموزش شبکه استفاده شد که هنگام استفاده از الگوریتم\n",
        "Adam\n",
        "تاثیر چندانی در عملکرد شبکه با جابه جایی این دو ایجاد نمیشد اما هنگام استفاده از الگوریتم \n",
        "SGD\n",
        "هنگامی که از تعداد ایپاک کمتری استفاده میشد عملکرد 0.01 بسیار بهتر از عمکرد 0.001 بود. در تعداد ایپاک بیشتر همچنان این موضوع برقرار بود با این تفاوت که اختلاف عمکرد کمتر میشد.\n",
        "\n",
        "### تاثیر batch size\n",
        "از\n",
        "batch\n",
        "هایی با سایز‌های ۱۲۸، ۶۱۲ و ۲۰۴۸ استفاده شد که در الگوریتم\n",
        "Adam\n",
        "تاثیر چندانی وجود نداشت\n",
        "اما هنگامی که الگوریتم بهینه ساز\n",
        "SGD\n",
        "بود عملکرد 128 بهتر از بقیه بود که البته دلیل آن شاید کم بودن تعداد ایپاک‌ها باشد. زیرا با\n",
        "batch size\n",
        "کوچکتر الگوریتم بهینه ساز بیشتر اجرا می‌شود که در این صورت زودتر همگرا می‌شود.\n",
        "\n",
        "\n",
        "### تعداد epoch\n",
        "برای مقدار ایپاک از ۱۰ و ۵۰ استفاده شد که در الگوریتم\n",
        "Adam\n",
        "باز هم تغییر آن تاثیر چندانی روی عملکرد نمی‌گذاشت اما در الگوریتم\n",
        "SGD\n",
        "به طور میانگین ایپاک بیشتر عملکرد شبکه را بهتر می‌کرد الخصوص زمانی که نرخ یادگیری کم بود.\n",
        "\n"
      ]
    }
  ],
  "metadata": {
    "colab": {
      "collapsed_sections": [],
      "name": "HW2_MNIST_classification.ipynb",
      "provenance": []
    },
    "kernelspec": {
      "display_name": "Python 3",
      "name": "python3"
    },
    "language_info": {
      "codemirror_mode": {
        "name": "ipython",
        "version": 3
      },
      "file_extension": ".py",
      "mimetype": "text/x-python",
      "name": "python",
      "nbconvert_exporter": "python",
      "pygments_lexer": "ipython3",
      "version": "3.8.8"
    }
  },
  "nbformat": 4,
  "nbformat_minor": 0
}
