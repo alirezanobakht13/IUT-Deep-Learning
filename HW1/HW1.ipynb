{
 "cells": [
  {
   "cell_type": "markdown",
   "metadata": {
    "id": "Y2tb3P5kWjku"
   },
   "source": [
    "# HW1: Introduction to TensorFlow\n",
    "Welcome to Homework 1  &#128522;&#9996;"
   ]
  },
  {
   "cell_type": "markdown",
   "metadata": {
    "id": "o2GcZKE6kPKn"
   },
   "source": [
    " <div dir='rtl'style=\"text-align: right;font-family:verdana;\">\n",
    "\n",
    "کتابخانه  TensorFlow \n",
    "به طور گسترده در مسائل یادگیری ماشین کاربرد دارد. در این تمرین نحوه محاسبات و نحوه تعریف یک شبکه عصبی ساده را در TensorFlow یاد می‌گیریم.  برای شروع ابتدا کتابخانه‌ها و پکیج‌های مورد نیاز را import می‌کنیم. "
   ]
  },
  {
   "cell_type": "code",
   "execution_count": 1,
   "metadata": {
    "id": "KQlPcZv6We7G"
   },
   "outputs": [
    {
     "name": "stderr",
     "output_type": "stream",
     "text": [
      "2021-11-15 20:51:09.510389: W tensorflow/stream_executor/platform/default/dso_loader.cc:60] Could not load dynamic library 'libcudart.so.11.0'; dlerror: libcudart.so.11.0: cannot open shared object file: No such file or directory\n",
      "2021-11-15 20:51:09.510453: I tensorflow/stream_executor/cuda/cudart_stub.cc:29] Ignore above cudart dlerror if you do not have a GPU set up on your machine.\n"
     ]
    }
   ],
   "source": [
    "\n",
    "# %tensorflow_version 2.x\n",
    "import tensorflow as tf\n",
    "import numpy as np\n",
    "import matplotlib.pyplot as plt"
   ]
  },
  {
   "cell_type": "markdown",
   "metadata": {
    "id": "c0GmYnTXwr_N"
   },
   "source": [
    "## A) تنسورها"
   ]
  },
  {
   "cell_type": "markdown",
   "metadata": {
    "id": "f5IpuCZzerrE"
   },
   "source": [
    " <div dir='rtl'style=\"text-align: right;font-family:verdana;\">\n",
    " \n",
    " همانطور که می‌دانیم Tensor ها به عنوان آرایه‌های n بعدی از انواع داده‌های پایه مانند یک رشته (string) یا عدد صحیح (integer) شناخته می‌شوند. \n",
    " در سلول‌های زیر مثال‌هایی از Tensor های صفر و یک بعدی آورده شده است.\n"
   ]
  },
  {
   "cell_type": "code",
   "execution_count": 2,
   "metadata": {
    "colab": {
     "base_uri": "https://localhost:8080/"
    },
    "id": "GO4orTmdWe36",
    "outputId": "8d4707a1-3953-4806-b359-1ecb7b1bd33e"
   },
   "outputs": [
    {
     "name": "stdout",
     "output_type": "stream",
     "text": [
      "`Science` is a 0-d Tensor\n",
      "`number` is a 0-d Tensor\n"
     ]
    },
    {
     "name": "stderr",
     "output_type": "stream",
     "text": [
      "2021-11-15 20:51:11.471291: I tensorflow/compiler/jit/xla_cpu_device.cc:41] Not creating XLA devices, tf_xla_enable_xla_devices not set\n",
      "2021-11-15 20:51:11.477279: I tensorflow/stream_executor/platform/default/dso_loader.cc:49] Successfully opened dynamic library libcuda.so.1\n",
      "2021-11-15 20:51:11.530166: E tensorflow/stream_executor/cuda/cuda_gpu_executor.cc:927] could not open file to read NUMA node: /sys/bus/pci/devices/0000:01:00.0/numa_node\n",
      "Your kernel may have been built without NUMA support.\n",
      "2021-11-15 20:51:11.530398: I tensorflow/core/common_runtime/gpu/gpu_device.cc:1720] Found device 0 with properties: \n",
      "pciBusID: 0000:01:00.0 name: NVIDIA GeForce RTX 2060 computeCapability: 7.5\n",
      "coreClock: 1.35GHz coreCount: 30 deviceMemorySize: 6.00GiB deviceMemoryBandwidth: 241.85GiB/s\n",
      "2021-11-15 20:51:11.530535: W tensorflow/stream_executor/platform/default/dso_loader.cc:60] Could not load dynamic library 'libcudart.so.11.0'; dlerror: libcudart.so.11.0: cannot open shared object file: No such file or directory\n",
      "2021-11-15 20:51:11.530626: W tensorflow/stream_executor/platform/default/dso_loader.cc:60] Could not load dynamic library 'libcublas.so.11'; dlerror: libcublas.so.11: cannot open shared object file: No such file or directory\n",
      "2021-11-15 20:51:11.530677: W tensorflow/stream_executor/platform/default/dso_loader.cc:60] Could not load dynamic library 'libcublasLt.so.11'; dlerror: libcublasLt.so.11: cannot open shared object file: No such file or directory\n",
      "2021-11-15 20:51:11.536711: I tensorflow/stream_executor/platform/default/dso_loader.cc:49] Successfully opened dynamic library libcufft.so.10\n",
      "2021-11-15 20:51:11.537655: I tensorflow/stream_executor/platform/default/dso_loader.cc:49] Successfully opened dynamic library libcurand.so.10\n",
      "2021-11-15 20:51:11.550389: I tensorflow/stream_executor/platform/default/dso_loader.cc:49] Successfully opened dynamic library libcusolver.so.10\n",
      "2021-11-15 20:51:11.550566: W tensorflow/stream_executor/platform/default/dso_loader.cc:60] Could not load dynamic library 'libcusparse.so.11'; dlerror: libcusparse.so.11: cannot open shared object file: No such file or directory\n",
      "2021-11-15 20:51:11.550662: W tensorflow/stream_executor/platform/default/dso_loader.cc:60] Could not load dynamic library 'libcudnn.so.8'; dlerror: libcudnn.so.8: cannot open shared object file: No such file or directory\n",
      "2021-11-15 20:51:11.550700: W tensorflow/core/common_runtime/gpu/gpu_device.cc:1757] Cannot dlopen some GPU libraries. Please make sure the missing libraries mentioned above are installed properly if you would like to use GPU. Follow the guide at https://www.tensorflow.org/install/gpu for how to download and setup the required libraries for your platform.\n",
      "Skipping registering GPU devices...\n",
      "2021-11-15 20:51:11.552669: I tensorflow/core/platform/cpu_feature_guard.cc:142] This TensorFlow binary is optimized with oneAPI Deep Neural Network Library (oneDNN) to use the following CPU instructions in performance-critical operations:  AVX2 FMA\n",
      "To enable them in other operations, rebuild TensorFlow with the appropriate compiler flags.\n",
      "2021-11-15 20:51:11.553840: I tensorflow/compiler/jit/xla_gpu_device.cc:99] Not creating XLA devices, tf_xla_enable_xla_devices not set\n",
      "2021-11-15 20:51:11.553913: I tensorflow/core/common_runtime/gpu/gpu_device.cc:1261] Device interconnect StreamExecutor with strength 1 edge matrix:\n",
      "2021-11-15 20:51:11.553922: I tensorflow/core/common_runtime/gpu/gpu_device.cc:1267]      \n"
     ]
    }
   ],
   "source": [
    "Science = tf.constant(\"chemistry\", tf.string)\n",
    "number = tf.constant(3.14159265358, tf.float64)\n",
    "\n",
    "print(\"`Science` is a {}-d Tensor\".format(tf.rank(Science).numpy()))\n",
    "print(\"`number` is a {}-d Tensor\".format(tf.rank(number).numpy()))"
   ]
  },
  {
   "cell_type": "code",
   "execution_count": 3,
   "metadata": {
    "colab": {
     "base_uri": "https://localhost:8080/"
    },
    "id": "XNZV65pog4bc",
    "outputId": "f15b1c23-423c-4adb-fb5d-c49896c43fcf"
   },
   "outputs": [
    {
     "name": "stdout",
     "output_type": "stream",
     "text": [
      "`Sciences` is a 1-d Tensor with shape: [2]\n",
      "`numbers` is a 1-d Tensor with shape: [3]\n"
     ]
    }
   ],
   "source": [
    "Sciences = tf.constant([\"chemistry\", \"mathematics\"], tf.string)\n",
    "numbers = tf.constant([3.14, 5.16, 2.97], tf.float64)\n",
    "\n",
    "print(\"`Sciences` is a {}-d Tensor with shape: {}\".format(tf.rank(Sciences).numpy(), tf.shape(Sciences)))\n",
    "print(\"`numbers` is a {}-d Tensor with shape: {}\".format(tf.rank(numbers).numpy(), tf.shape(numbers)))"
   ]
  },
  {
   "cell_type": "markdown",
   "metadata": {
    "id": "fIXea11Th6NS"
   },
   "source": [
    "<div dir='rtl'style=\"text-align: right;font-family:verdana;\">\n",
    "\n",
    "\n",
    "در مرحله بعد تنسورهای مرتبه بالاتر را در نظر می‌گیریم. همانطور که می‌دانید انواع تصاویر رنگی که در مسائل یادگیری عمیق و پردازش تصویر با آنها سروکار داریم در واقع تنسور هستند. \n",
    "\n",
    "**تمرین :**\n",
    " در سلول زیر یک تنسور دو بعدی (ماتریس) با ابعاد 4*3 با آرایه‌های دلخواه و یک تنسور 4 بعدی با ابعاد دلخواه تعریف کنید. \n"
   ]
  },
  {
   "cell_type": "code",
   "execution_count": 4,
   "metadata": {
    "id": "1i3GwTXfYBKp"
   },
   "outputs": [
    {
     "name": "stdout",
     "output_type": "stream",
     "text": [
      "tf.Tensor(\n",
      "[[1 2 3 4]\n",
      " [1 2 3 4]\n",
      " [1 2 3 4]], shape=(3, 4), dtype=int32)\n",
      "tf.Tensor(\n",
      "[[[[1. 1. 1.]\n",
      "   [1. 1. 1.]\n",
      "   [1. 1. 1.]]\n",
      "\n",
      "  [[1. 1. 1.]\n",
      "   [1. 1. 1.]\n",
      "   [1. 1. 1.]]\n",
      "\n",
      "  [[1. 1. 1.]\n",
      "   [1. 1. 1.]\n",
      "   [1. 1. 1.]]\n",
      "\n",
      "  [[1. 1. 1.]\n",
      "   [1. 1. 1.]\n",
      "   [1. 1. 1.]]]\n",
      "\n",
      "\n",
      " [[[1. 1. 1.]\n",
      "   [1. 1. 1.]\n",
      "   [1. 1. 1.]]\n",
      "\n",
      "  [[1. 1. 1.]\n",
      "   [1. 1. 1.]\n",
      "   [1. 1. 1.]]\n",
      "\n",
      "  [[1. 1. 1.]\n",
      "   [1. 1. 1.]\n",
      "   [1. 1. 1.]]\n",
      "\n",
      "  [[1. 1. 1.]\n",
      "   [1. 1. 1.]\n",
      "   [1. 1. 1.]]]], shape=(2, 4, 3, 3), dtype=float32) \n",
      "\n",
      "mat3_4 is a 2-d Tensor with shape: [3 4]\n",
      "mat4d is a 4-d Tensor with shape: [2 4 3 3]\n"
     ]
    }
   ],
   "source": [
    "# TODO ...\n",
    "mat3_4 = tf.constant([[1,2,3,4],[1,2,3,4],[1,2,3,4]])\n",
    "mat4d = tf.ones([2,4,3,3])\n",
    "print(mat3_4)\n",
    "print(mat4d,\"\\n\")\n",
    "print(f\"mat3_4 is a {tf.rank(mat3_4).numpy()}-d Tensor with shape: {tf.shape(mat3_4)}\")\n",
    "print(f\"mat4d is a {tf.rank(mat4d).numpy()}-d Tensor with shape: {tf.shape(mat4d)}\")"
   ]
  },
  {
   "cell_type": "markdown",
   "metadata": {
    "id": "Iwrb0mzZrrTm"
   },
   "source": [
    "<div dir='rtl'style=\"text-align: right;font-family:verdana;\">\n",
    "\n",
    "\n",
    "**تمرین:**\n",
    "برای ماتریسی که در سلول قبل تعریف کردید، ردیف سوم و ستون دوم ماتریس و همچنین آرایه قرار گرفته در ردیف اول و ستون دوم را نشان دهید. "
   ]
  },
  {
   "cell_type": "code",
   "execution_count": 5,
   "metadata": {
    "id": "K4ehs1cIsi2l"
   },
   "outputs": [
    {
     "name": "stdout",
     "output_type": "stream",
     "text": [
      "tf.Tensor([1 2 3 4], shape=(4,), dtype=int32)\n",
      "tf.Tensor([2 2 2], shape=(3,), dtype=int32)\n",
      "tf.Tensor(\n",
      "[[1. 1. 1.]\n",
      " [1. 1. 1.]\n",
      " [1. 1. 1.]], shape=(3, 3), dtype=float32)\n"
     ]
    }
   ],
   "source": [
    "#  The third row of the matrix\n",
    "Third_row = mat3_4[2]\n",
    "print(Third_row)\n",
    "#  The second column of the matrix\n",
    "second_column = mat3_4[:,1]\n",
    "print(second_column)\n",
    "# matrix array\n",
    "scalar_array = mat4d[0,1]\n",
    "print(scalar_array)\n"
   ]
  },
  {
   "cell_type": "markdown",
   "metadata": {
    "id": "JuEPqlmew1J_"
   },
   "source": [
    "\n",
    "## B)  محاسبات روی تنسورها"
   ]
  },
  {
   "cell_type": "markdown",
   "metadata": {
    "id": "M2GF6ThHG704"
   },
   "source": [
    "<div dir='rtl'style=\"text-align: right;font-family:verdana;\">\n",
    "\n",
    "عملیات ریاضی مختلفی را می‌توانیم بر روی تنسورها انجام داده و نتایج را مشاهده کنیم. برای مثال در سلول زیر عمل جمع روی دو مقدار ثابت a و b انجام شده است. \n"
   ]
  },
  {
   "cell_type": "code",
   "execution_count": 6,
   "metadata": {
    "colab": {
     "base_uri": "https://localhost:8080/"
    },
    "id": "bkCyTJAseKyy",
    "outputId": "fabaf320-76e5-4a38-e872-8426c850ad69"
   },
   "outputs": [
    {
     "name": "stdout",
     "output_type": "stream",
     "text": [
      "tf.Tensor(88, shape=(), dtype=int32)\n"
     ]
    }
   ],
   "source": [
    "a = tf.constant(21)\n",
    "b = tf.constant(67)\n",
    "c1 = tf.add(a,b)\n",
    "print(c1)"
   ]
  },
  {
   "cell_type": "markdown",
   "metadata": {
    "id": "Q7JIw3cWdUYW"
   },
   "source": [
    "<div dir='rtl'style=\"text-align: right;font-family:verdana;\">\n",
    "\n",
    "**تمرین:**\n",
    "تابع ساده‌ای در سلول زیر نوشته تا محاسبات زیر را انجام دهد:\n",
    "\n",
    "$e = (a-3)*(2a+b)$\n",
    "\n",
    "\n"
   ]
  },
  {
   "cell_type": "code",
   "execution_count": 7,
   "metadata": {
    "id": "CYbLFS00hLe4"
   },
   "outputs": [],
   "source": [
    "# Please Define a function \n",
    "def func(a,b):\n",
    "    e = tf.multiply(tf.add(a,-3),tf.add(tf.multiply(2,a),b))\n",
    "\n",
    "   \n",
    "    return e"
   ]
  },
  {
   "cell_type": "markdown",
   "metadata": {
    "id": "4kudbboalOK5"
   },
   "source": [
    "\n",
    " <div dir='rtl'style=\"text-align: right;font-family:verdana;\">\n",
    "\n",
    "**تمرین:**\n",
    "  مقدار خروجی این تابع را به ازای  a = 1 و b = 2 نشان دهید:"
   ]
  },
  {
   "cell_type": "code",
   "execution_count": 8,
   "metadata": {
    "id": "VsJ9eOFKqNxy"
   },
   "outputs": [
    {
     "name": "stdout",
     "output_type": "stream",
     "text": [
      "func(1,2)=-8\n"
     ]
    }
   ],
   "source": [
    "# compute the  function output  for a=1 , b=2\n",
    "print(f\"func(1,2)={func(1,2)}\")"
   ]
  },
  {
   "cell_type": "markdown",
   "metadata": {
    "id": "ffaCwpAk52D9"
   },
   "source": [
    "\n",
    "## C)  شبکه‌های عصبی"
   ]
  },
  {
   "cell_type": "markdown",
   "metadata": {
    "id": "tlurzxLyKono"
   },
   "source": [
    "<div dir='rtl'style=\"text-align: right;font-family:verdana;\">\n",
    "\n",
    "در ادامه می‌خواهیم یاد بگیریم که چگونه یک مدل شبکه عصبی ساده با استفاده از Tensorflow بنویسیم. \n",
    "برای شروع ابتدا یک perceptron ساده با تنها یک لایه $ y = \\sigma(Wx + b)$ در نظر می‌گیریم. \n",
    "\n",
    "\n",
    "**تمرین :** \n",
    "با توجه به موارد زیر در سلول زیر کد یک لایه پرسپترون ساده را با استفاده از Tensorflow بنویسید: \n",
    "\n",
    "- W  ماتریس وزن\n",
    "- b بایاس\n",
    "- x ورودی\n",
    "- $\\sigma$ تابع فعال‌ساز سیگموید\n",
    "- y خروجی\n"
   ]
  },
  {
   "cell_type": "code",
   "execution_count": 9,
   "metadata": {
    "id": "JR0eyj_MDxeB"
   },
   "outputs": [
    {
     "name": "stdout",
     "output_type": "stream",
     "text": [
      "0 and 0: 0\n",
      "0 and 1: 0\n",
      "1 and 0: 0\n",
      "1 and 1: 1\n",
      "\n",
      "\n",
      "0 or 0: 0\n",
      "0 or 1: 1\n",
      "1 or 0: 1\n",
      "1 or 1: 1\n"
     ]
    }
   ],
   "source": [
    "### Please Defining simple perseptron with one layer ###\n",
    "def perceptron(W,b,x):\n",
    "    z = tf.add(tf.matmul(tf.transpose(W),x),b)\n",
    "    y = tf.math.sigmoid(z)\n",
    "    return y\n",
    "\n",
    "W_and = tf.constant([1,1],dtype=tf.float32,shape=(2,1))\n",
    "b_and = tf.constant(-1.5)\n",
    "\n",
    "for i in range(2):\n",
    "    for j in range(2):\n",
    "        print(f\"{i} and {j}: {1 if perceptron(W_and,b_and,tf.constant([i,j],dtype=tf.float32,shape=(2,1)))>0.5 else 0}\")\n",
    "        \n",
    "W_or = tf.constant([1,1],dtype=tf.float32,shape=(2,1))\n",
    "b_or = tf.constant(-0.5)\n",
    "\n",
    "print(\"\\n\")\n",
    "\n",
    "for i in range(2):\n",
    "    for j in range(2):\n",
    "        print(f\"{i} or {j}: {1 if perceptron(W_or,b_or,tf.constant([i,j],dtype=tf.float32,shape=(2,1)))>0.5 else 0}\")"
   ]
  },
  {
   "cell_type": "markdown",
   "metadata": {
    "id": "U4vtUt1t6Ibe"
   },
   "source": [
    "### Keras Sequential API "
   ]
  },
  {
   "cell_type": "markdown",
   "metadata": {
    "id": "5VY6yG_QTEV7"
   },
   "source": [
    "<div dir='rtl'style=\"text-align: right;font-family:verdana;\">\n",
    "\n",
    "استفاده از Keras Sequential API  یک روش بسیار راحت برای ایجاد مدل‌های شبکه عصبی است. یک مدل متوالی همانطور که از اسم آن پیداست، به شما این امکان را می‌دهد که مدل‌های لایه به لایه را به صورت مرحله به مرحله ایجاد کنید. این روش آسان ترین و در عین حال محدود کننده ترین روش برای ایجاد مدل است. نمونه‌هایی از معماری‌های پی در پی که ممکن است قبلا از آنها استفاده کرده باشید و یا دیده باشید، عبارتند از:\n",
    "\n",
    "\n",
    "*   LeNet\n",
    "*   AlexNet\n",
    "*   VGGNet\n",
    "\n",
    "\n",
    "\n",
    "\n",
    "\n",
    "\n",
    "**تمرین:**\n",
    "حال  با استفاده از کتابخانه keras و مدل Sequential یک لایه کاملا متصل (fully connected) بنویسید.\n",
    "\n",
    "\n"
   ]
  },
  {
   "cell_type": "code",
   "execution_count": 10,
   "metadata": {
    "id": "Xhacnekl6DBG"
   },
   "outputs": [
    {
     "name": "stdout",
     "output_type": "stream",
     "text": [
      "Model: \"sequential\"\n",
      "_________________________________________________________________\n",
      "Layer (type)                 Output Shape              Param #   \n",
      "=================================================================\n",
      "dense (Dense)                (None, 1)                 3         \n",
      "=================================================================\n",
      "Total params: 3\n",
      "Trainable params: 3\n",
      "Non-trainable params: 0\n",
      "_________________________________________________________________\n"
     ]
    },
    {
     "data": {
      "text/plain": [
       "[<tf.Variable 'dense/kernel:0' shape=(2, 1) dtype=float32, numpy=\n",
       " array([[-1.3701991 ],\n",
       "        [ 0.90115917]], dtype=float32)>,\n",
       " <tf.Variable 'dense/bias:0' shape=(1,) dtype=float32, numpy=array([0.], dtype=float32)>]"
      ]
     },
     "execution_count": 10,
     "metadata": {},
     "output_type": "execute_result"
    }
   ],
   "source": [
    "### Please Defining a neural network using keras  ###\n",
    "from tensorflow.keras import Sequential\n",
    "from tensorflow.keras.layers import Dense\n",
    "\n",
    "model = Sequential()\n",
    "model.add(Dense(1,activation=\"sigmoid\",input_shape=(2,)))\n",
    "\n",
    "model.summary()\n",
    "\n",
    "model.variables\n"
   ]
  },
  {
   "cell_type": "markdown",
   "metadata": {
    "id": "xF8hyq9bUvW1"
   },
   "source": [
    "<div dir='rtl'style=\"text-align: right;font-family:verdana;\">\n",
    "\n",
    "**تمرین:**\n",
    "\n",
    "مدل نوشته شده در سلول قبلی را با استفاده از یک ورودی نمونه تست کنید."
   ]
  },
  {
   "cell_type": "code",
   "execution_count": 11,
   "metadata": {
    "id": "GgSnQUwb8I-S"
   },
   "outputs": [
    {
     "name": "stdout",
     "output_type": "stream",
     "text": [
      "output of model to [0.5, 0.8] is: 0.5089560151100159\n",
      "output of model to [1, 2] is: 0.6063796281814575\n",
      "output of model to [1.002, -0.35] is: 0.15599358081817627\n",
      "output of model to [0, 0] is: 0.5\n"
     ]
    }
   ],
   "source": [
    "# Test your model \n",
    "\n",
    "inp = [[0.5,0.8],\n",
    "        [1,2],\n",
    "        [1.002,-0.35],\n",
    "        [0,0]]\n",
    "\n",
    "for ini in inp:\n",
    "    print(f\"output of model to {ini} is: {float(model(tf.constant([ini,],dtype=tf.float32)))}\")\n"
   ]
  },
  {
   "cell_type": "markdown",
   "metadata": {
    "id": "iFaTNB8X8Uiv"
   },
   "source": [
    "### Model subclassing with Keras "
   ]
  },
  {
   "cell_type": "markdown",
   "metadata": {
    "id": "ZSKGqphYW6Lm"
   },
   "source": [
    "<div dir='rtl'style=\"text-align: right;font-family:verdana;\">\n",
    "\n",
    "یک روش دیگر برای پیاده‌سازی معماری مدل، model subclassing نامیده می‌شود. در این روش به طور کامل قابل تنظیم است و شما را قادر می‌سازد که مدل سفارشی خود را پیاده‌سازی کنید. با این حال این انعطاف‌پذیری هزینه‌هایی هم در بر دارد.\n",
    "\n",
    "**تمرین:**\n",
    "راجع به مزایا و معایای این روش پیاده‌سازی بحث کنید:\n",
    "\n",
    "از مزایای پیاده‌سازی با روش Model subclassing این است که اجازه شخصی سازی بیشتری روی شبکه می‌دهد و بر اساس نیاز مسئله می‌شود شبکه را با شرایط خاص خود ایجاد کرد.\n",
    "\n",
    "از معایب آن نیز این است که زمان بیشتری باید برای پیاده سازی آن گذاشت و در ضمن بهینه سازی‌هایی که به شکل ویژه برای مدل‌های از پیش آماده وجود دارد برای مدل های سفارشی  وجود ندارد که می‌تواند موجب عملکرد ضعیف تر این مدل‌ها بشود \n",
    "\n",
    "**تمرین:**\n",
    "\n",
    " شبکه عصبی که در بالا به صورت Sequential تعریف کردید به صورت Subclassing تعریف کنید و مدل را به ازای ورودی داده شده، تست کنید."
   ]
  },
  {
   "cell_type": "code",
   "execution_count": 12,
   "metadata": {
    "id": "0ubrq4zxS9an"
   },
   "outputs": [],
   "source": [
    "###  Please Defining  model using subclassing ###\n",
    "\n",
    "class CustomModel(tf.keras.layers.Layer):\n",
    "    def __init__(self,input_dim,output_dim):\n",
    "        super(CustomModel,self).__init__()\n",
    "\n",
    "        self.W = self.add_weight(shape=(input_dim,output_dim))\n",
    "        self.b = self.add_weight(shape=(1,output_dim))\n",
    "\n",
    "    def call(self, inputs):\n",
    "\n",
    "        z = tf.add(tf.matmul(inputs, self.W),self.b)\n",
    "\n",
    "        return tf.math.sigmoid(z)\n"
   ]
  },
  {
   "cell_type": "code",
   "execution_count": 13,
   "metadata": {
    "id": "GiOLprqxT1qh"
   },
   "outputs": [
    {
     "name": "stdout",
     "output_type": "stream",
     "text": [
      "output of model to [0.5, 0.8] is: 0.5752663016319275\n",
      "output of model to [1, 2] is: 0.22545933723449707\n",
      "output of model to [1.002, -0.35] is: 0.8321329951286316\n",
      "output of model to [0, 0] is: 0.7954776883125305\n"
     ]
    }
   ],
   "source": [
    "# Test your model \n",
    "# TODO\n",
    "\n",
    "custom_model = CustomModel(2,1)\n",
    "\n",
    "for ini in inp:\n",
    "    print(f\"output of model to {ini} is: {float(custom_model(tf.constant([ini,],dtype=tf.float32)))}\")"
   ]
  },
  {
   "cell_type": "markdown",
   "metadata": {
    "id": "PhIy-rLz6FNP"
   },
   "source": [
    "### Backpropagation"
   ]
  },
  {
   "cell_type": "markdown",
   "metadata": {
    "id": "nPTNWkM_ADfA"
   },
   "source": [
    "<div dir='rtl'style=\"text-align: right;font-family:verdana;\">\n",
    "\n",
    "پس از آشنایی اولیه با ساختن لایه‌های شبکه عصبی می‌توانیم توجه خود را به نحوه پیاده‌سازی آموزش شبکه با backpropagation معطوف کنیم، برای این منظور می‌توانیم از  GradientTape tf استفاده کنیم. \n",
    "\n",
    "هنگامی که یک forward pass در شبکه داریم، تمامی این مسیرها توسط \"tape\" ضبط می‌شود و سپس در محاسبه گرادیان مسیر بازگشت از آنها استفاده می‌شود. به طور پیش فرض \"tape\" ها بعد از بازگشت به عقب برداشته می‌شود، در واقع tf.GradientTape  خاص فقط می‌تواند یک گرادیان را محاسبه کند. \n",
    "\n",
    "برای تابع ساده $ y = x^2$ گرادیان را محاسبه می‌کنیم: "
   ]
  },
  {
   "cell_type": "code",
   "execution_count": 14,
   "metadata": {
    "id": "cEch7SxHDwt5"
   },
   "outputs": [
    {
     "data": {
      "text/plain": [
       "<tf.Tensor: shape=(), dtype=float32, numpy=6.0>"
      ]
     },
     "execution_count": 14,
     "metadata": {},
     "output_type": "execute_result"
    }
   ],
   "source": [
    "### Gradient computation ###\n",
    "\n",
    "# y = x^2\n",
    "# Example: x = 3.0\n",
    "x = tf.Variable(3.0)\n",
    "\n",
    "# Initiate the gradient tape\n",
    "with tf.GradientTape() as tape:\n",
    "  y = x * x\n",
    "dy_dx = tape.gradient(y, x)\n",
    "dy_dx"
   ]
  },
  {
   "cell_type": "markdown",
   "metadata": {
    "id": "3X3aV9s9EYL5"
   },
   "source": [
    "<div dir='rtl'style=\"text-align: right;font-family:verdana;\">\n",
    "\n",
    "اکنون درک می‌کنیم که چگونه از GradientTape برای محاسبه مشتقات استفاده کنیم. در مثال زیر می‌توانیم از روش SGD برای به دست آوردن minimun تابع $L=(x-x_f)^2$ استفاده کنیم. که در این مثال $x_f$ یک متغیر برای مقدار مورد نظر است که سعی می‌کنیم برای آن بهینه‌سازی کنیم. \n",
    "\n",
    "\n",
    "**تمرین:**\n",
    "\n",
    "الگوریتم SGD  را برای تعداد تکرار مشخصی نوشته و با استفاده از tf.GradientTape گرادیان‌ها را محاسبه کنید. همچنین نمودار مربوط به مقدار واقعی و مقدار تخمین زده شده را بر اساس تعداد تکرارها رسم کنید. \n",
    "\n",
    "  \n",
    "\n"
   ]
  },
  {
   "cell_type": "code",
   "execution_count": 15,
   "metadata": {
    "id": "RoGQ0_Bdns2I"
   },
   "outputs": [
    {
     "name": "stdout",
     "output_type": "stream",
     "text": [
      "xf is 29.729101181030273 and initial x is 43.355384826660156\n",
      "x value after running sgd is: 29.72966194152832\n"
     ]
    }
   ],
   "source": [
    "### Function minimization ###\n",
    "\n",
    "x = tf.Variable(100*np.random.random(),trainable=True)\n",
    "xf = tf.constant(100*np.random.random())\n",
    "\n",
    "EPOCHS = 500\n",
    "lr = 0.01\n",
    "lr = tf.constant(lr)\n",
    "\n",
    "xs = [x.numpy(),]\n",
    "losses = []\n",
    "\n",
    "print(f\"xf is {float(xf)} and initial x is {float(x)}\")\n",
    "\n",
    "for i in range(EPOCHS):\n",
    "    with tf.GradientTape() as tape:\n",
    "        tape.watch(x)\n",
    "        y = (x-xf)**2\n",
    "        losses.append(y.numpy())\n",
    "        dy_dx = tape.gradient(y, x)\n",
    "        x = x - lr*dy_dx\n",
    "        xs.append(x.numpy())\n",
    "\n",
    "print(f\"x value after running sgd is: {x.numpy()}\")\n",
    "\n"
   ]
  },
  {
   "cell_type": "code",
   "execution_count": 16,
   "metadata": {
    "id": "MdxyfC4rnzHE"
   },
   "outputs": [
    {
     "data": {
      "text/plain": [
       "Text(0.5, 1.0, 'x values over iteration')"
      ]
     },
     "execution_count": 16,
     "metadata": {},
     "output_type": "execute_result"
    },
    {
     "data": {
      "image/png": "[encoded data removed]",
      "text/plain": [
       "<Figure size 648x216 with 2 Axes>"
      ]
     },
     "metadata": {
      "needs_background": "light"
     },
     "output_type": "display_data"
    }
   ],
   "source": [
    "# Please plot the evolution of x \n",
    "\n",
    "figure, axis = plt.subplots(1,2,figsize =(9,3))\n",
    "axis[0].plot(losses)\n",
    "axis[0].set_title(\"losses over iteration\")\n",
    "\n",
    "axis[1].plot(xs,color='C1')\n",
    "axis[1].set_title(\"x values over iteration\")\n"
   ]
  },
  {
   "cell_type": "code",
   "execution_count": null,
   "metadata": {},
   "outputs": [],
   "source": []
  }
 ],
 "metadata": {
  "colab": {
   "collapsed_sections": [],
   "name": "HW1_starter.ipynb",
   "provenance": []
  },
  "kernelspec": {
   "display_name": "Python 3 (ipykernel)",
   "language": "python",
   "name": "python3"
  },
  "language_info": {
   "codemirror_mode": {
    "name": "ipython",
    "version": 3
   },
   "file_extension": ".py",
   "mimetype": "text/x-python",
   "name": "python",
   "nbconvert_exporter": "python",
   "pygments_lexer": "ipython3",
   "version": "3.8.8"
  }
 },
 "nbformat": 4,
 "nbformat_minor": 1
}
